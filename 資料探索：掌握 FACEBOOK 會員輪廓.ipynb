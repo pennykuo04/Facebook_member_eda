{
 "cells": [
  {
   "cell_type": "markdown",
   "id": "29f7b1bb",
   "metadata": {},
   "source": [
    "# 利用資料探索掌握 FACEBOOK 用戶輪廓"
   ]
  },
  {
   "cell_type": "markdown",
   "id": "3ad32b29",
   "metadata": {},
   "source": [
    "### 前言"
   ]
  },
  {
   "cell_type": "markdown",
   "id": "575c170a",
   "metadata": {},
   "source": [
    "  >企業的資源是有限的，因此，通常會需要了解 TA (Target audience)，並針對有效的管道投放廣告，推送合適的促銷，以助於提升公司的營收、增加客戶體驗及提升客戶留存。  \n",
    "  >接下來會利用Python針對FACEBOOK的會員資料，進行資料探索。透過分析此資料，可以了解會員輪廓，以利於後續精準行銷進行。  \n",
    "\n",
    "資料集來源 : https://www.kaggle.com/sheenabatra/facebook-data "
   ]
  },
  {
   "cell_type": "markdown",
   "id": "959e6957",
   "metadata": {},
   "source": [
    "### 導入工具包 / 資料集"
   ]
  },
  {
   "cell_type": "code",
   "execution_count": 1,
   "id": "0f7bb98e",
   "metadata": {},
   "outputs": [],
   "source": [
    "import pandas as pd\n",
    "import numpy as np\n",
    "import matplotlib.pyplot as plt\n",
    "import seaborn as sns\n"
   ]
  },
  {
   "cell_type": "code",
   "execution_count": 2,
   "id": "c881d855",
   "metadata": {},
   "outputs": [
    {
     "data": {
      "text/html": [
       "<div>\n",
       "<style scoped>\n",
       "    .dataframe tbody tr th:only-of-type {\n",
       "        vertical-align: middle;\n",
       "    }\n",
       "\n",
       "    .dataframe tbody tr th {\n",
       "        vertical-align: top;\n",
       "    }\n",
       "\n",
       "    .dataframe thead th {\n",
       "        text-align: right;\n",
       "    }\n",
       "</style>\n",
       "<table border=\"1\" class=\"dataframe\">\n",
       "  <thead>\n",
       "    <tr style=\"text-align: right;\">\n",
       "      <th></th>\n",
       "      <th>userid</th>\n",
       "      <th>age</th>\n",
       "      <th>dob_day</th>\n",
       "      <th>dob_year</th>\n",
       "      <th>dob_month</th>\n",
       "      <th>gender</th>\n",
       "      <th>tenure</th>\n",
       "      <th>friend_count</th>\n",
       "      <th>friendships_initiated</th>\n",
       "      <th>likes</th>\n",
       "      <th>likes_received</th>\n",
       "      <th>mobile_likes</th>\n",
       "      <th>mobile_likes_received</th>\n",
       "      <th>www_likes</th>\n",
       "      <th>www_likes_received</th>\n",
       "    </tr>\n",
       "  </thead>\n",
       "  <tbody>\n",
       "    <tr>\n",
       "      <th>0</th>\n",
       "      <td>2094382</td>\n",
       "      <td>14</td>\n",
       "      <td>19</td>\n",
       "      <td>1999</td>\n",
       "      <td>11</td>\n",
       "      <td>male</td>\n",
       "      <td>266.0</td>\n",
       "      <td>0</td>\n",
       "      <td>0</td>\n",
       "      <td>0</td>\n",
       "      <td>0</td>\n",
       "      <td>0</td>\n",
       "      <td>0</td>\n",
       "      <td>0</td>\n",
       "      <td>0</td>\n",
       "    </tr>\n",
       "    <tr>\n",
       "      <th>1</th>\n",
       "      <td>1192601</td>\n",
       "      <td>14</td>\n",
       "      <td>2</td>\n",
       "      <td>1999</td>\n",
       "      <td>11</td>\n",
       "      <td>female</td>\n",
       "      <td>6.0</td>\n",
       "      <td>0</td>\n",
       "      <td>0</td>\n",
       "      <td>0</td>\n",
       "      <td>0</td>\n",
       "      <td>0</td>\n",
       "      <td>0</td>\n",
       "      <td>0</td>\n",
       "      <td>0</td>\n",
       "    </tr>\n",
       "    <tr>\n",
       "      <th>2</th>\n",
       "      <td>2083884</td>\n",
       "      <td>14</td>\n",
       "      <td>16</td>\n",
       "      <td>1999</td>\n",
       "      <td>11</td>\n",
       "      <td>male</td>\n",
       "      <td>13.0</td>\n",
       "      <td>0</td>\n",
       "      <td>0</td>\n",
       "      <td>0</td>\n",
       "      <td>0</td>\n",
       "      <td>0</td>\n",
       "      <td>0</td>\n",
       "      <td>0</td>\n",
       "      <td>0</td>\n",
       "    </tr>\n",
       "    <tr>\n",
       "      <th>3</th>\n",
       "      <td>1203168</td>\n",
       "      <td>14</td>\n",
       "      <td>25</td>\n",
       "      <td>1999</td>\n",
       "      <td>12</td>\n",
       "      <td>female</td>\n",
       "      <td>93.0</td>\n",
       "      <td>0</td>\n",
       "      <td>0</td>\n",
       "      <td>0</td>\n",
       "      <td>0</td>\n",
       "      <td>0</td>\n",
       "      <td>0</td>\n",
       "      <td>0</td>\n",
       "      <td>0</td>\n",
       "    </tr>\n",
       "    <tr>\n",
       "      <th>4</th>\n",
       "      <td>1733186</td>\n",
       "      <td>14</td>\n",
       "      <td>4</td>\n",
       "      <td>1999</td>\n",
       "      <td>12</td>\n",
       "      <td>male</td>\n",
       "      <td>82.0</td>\n",
       "      <td>0</td>\n",
       "      <td>0</td>\n",
       "      <td>0</td>\n",
       "      <td>0</td>\n",
       "      <td>0</td>\n",
       "      <td>0</td>\n",
       "      <td>0</td>\n",
       "      <td>0</td>\n",
       "    </tr>\n",
       "  </tbody>\n",
       "</table>\n",
       "</div>"
      ],
      "text/plain": [
       "    userid  age  dob_day  dob_year  dob_month  gender  tenure  friend_count  \\\n",
       "0  2094382   14       19      1999         11    male   266.0             0   \n",
       "1  1192601   14        2      1999         11  female     6.0             0   \n",
       "2  2083884   14       16      1999         11    male    13.0             0   \n",
       "3  1203168   14       25      1999         12  female    93.0             0   \n",
       "4  1733186   14        4      1999         12    male    82.0             0   \n",
       "\n",
       "   friendships_initiated  likes  likes_received  mobile_likes  \\\n",
       "0                      0      0               0             0   \n",
       "1                      0      0               0             0   \n",
       "2                      0      0               0             0   \n",
       "3                      0      0               0             0   \n",
       "4                      0      0               0             0   \n",
       "\n",
       "   mobile_likes_received  www_likes  www_likes_received  \n",
       "0                      0          0                   0  \n",
       "1                      0          0                   0  \n",
       "2                      0          0                   0  \n",
       "3                      0          0                   0  \n",
       "4                      0          0                   0  "
      ]
     },
     "execution_count": 2,
     "metadata": {},
     "output_type": "execute_result"
    }
   ],
   "source": [
    "df = pd.read_csv('./pseudo_facebook.csv', encoding = 'utf-8')\n",
    "df.head()"
   ]
  },
  {
   "cell_type": "code",
   "execution_count": 3,
   "id": "1cc10bc3",
   "metadata": {},
   "outputs": [
    {
     "data": {
      "text/html": [
       "<div>\n",
       "<style scoped>\n",
       "    .dataframe tbody tr th:only-of-type {\n",
       "        vertical-align: middle;\n",
       "    }\n",
       "\n",
       "    .dataframe tbody tr th {\n",
       "        vertical-align: top;\n",
       "    }\n",
       "\n",
       "    .dataframe thead th {\n",
       "        text-align: right;\n",
       "    }\n",
       "</style>\n",
       "<table border=\"1\" class=\"dataframe\">\n",
       "  <thead>\n",
       "    <tr style=\"text-align: right;\">\n",
       "      <th></th>\n",
       "      <th>userid</th>\n",
       "      <th>age</th>\n",
       "      <th>dob_day</th>\n",
       "      <th>dob_year</th>\n",
       "      <th>dob_month</th>\n",
       "      <th>gender</th>\n",
       "      <th>tenure</th>\n",
       "      <th>friend_count</th>\n",
       "      <th>friendships_initiated</th>\n",
       "      <th>likes</th>\n",
       "      <th>likes_received</th>\n",
       "      <th>mobile_likes</th>\n",
       "      <th>mobile_likes_received</th>\n",
       "      <th>www_likes</th>\n",
       "      <th>www_likes_received</th>\n",
       "    </tr>\n",
       "  </thead>\n",
       "  <tbody>\n",
       "    <tr>\n",
       "      <th>98998</th>\n",
       "      <td>1268299</td>\n",
       "      <td>68</td>\n",
       "      <td>4</td>\n",
       "      <td>1945</td>\n",
       "      <td>4</td>\n",
       "      <td>female</td>\n",
       "      <td>541.0</td>\n",
       "      <td>2118</td>\n",
       "      <td>341</td>\n",
       "      <td>3996</td>\n",
       "      <td>18089</td>\n",
       "      <td>3505</td>\n",
       "      <td>11887</td>\n",
       "      <td>491</td>\n",
       "      <td>6202</td>\n",
       "    </tr>\n",
       "    <tr>\n",
       "      <th>98999</th>\n",
       "      <td>1256153</td>\n",
       "      <td>18</td>\n",
       "      <td>12</td>\n",
       "      <td>1995</td>\n",
       "      <td>3</td>\n",
       "      <td>female</td>\n",
       "      <td>21.0</td>\n",
       "      <td>1968</td>\n",
       "      <td>1720</td>\n",
       "      <td>4401</td>\n",
       "      <td>13412</td>\n",
       "      <td>4399</td>\n",
       "      <td>10592</td>\n",
       "      <td>2</td>\n",
       "      <td>2820</td>\n",
       "    </tr>\n",
       "    <tr>\n",
       "      <th>99000</th>\n",
       "      <td>1195943</td>\n",
       "      <td>15</td>\n",
       "      <td>10</td>\n",
       "      <td>1998</td>\n",
       "      <td>5</td>\n",
       "      <td>female</td>\n",
       "      <td>111.0</td>\n",
       "      <td>2002</td>\n",
       "      <td>1524</td>\n",
       "      <td>11959</td>\n",
       "      <td>12554</td>\n",
       "      <td>11959</td>\n",
       "      <td>11462</td>\n",
       "      <td>0</td>\n",
       "      <td>1092</td>\n",
       "    </tr>\n",
       "    <tr>\n",
       "      <th>99001</th>\n",
       "      <td>1468023</td>\n",
       "      <td>23</td>\n",
       "      <td>11</td>\n",
       "      <td>1990</td>\n",
       "      <td>4</td>\n",
       "      <td>female</td>\n",
       "      <td>416.0</td>\n",
       "      <td>2560</td>\n",
       "      <td>185</td>\n",
       "      <td>4506</td>\n",
       "      <td>6516</td>\n",
       "      <td>4506</td>\n",
       "      <td>5760</td>\n",
       "      <td>0</td>\n",
       "      <td>756</td>\n",
       "    </tr>\n",
       "    <tr>\n",
       "      <th>99002</th>\n",
       "      <td>1397896</td>\n",
       "      <td>39</td>\n",
       "      <td>15</td>\n",
       "      <td>1974</td>\n",
       "      <td>5</td>\n",
       "      <td>female</td>\n",
       "      <td>397.0</td>\n",
       "      <td>2049</td>\n",
       "      <td>768</td>\n",
       "      <td>9410</td>\n",
       "      <td>12443</td>\n",
       "      <td>9410</td>\n",
       "      <td>9530</td>\n",
       "      <td>0</td>\n",
       "      <td>2913</td>\n",
       "    </tr>\n",
       "  </tbody>\n",
       "</table>\n",
       "</div>"
      ],
      "text/plain": [
       "        userid  age  dob_day  dob_year  dob_month  gender  tenure  \\\n",
       "98998  1268299   68        4      1945          4  female   541.0   \n",
       "98999  1256153   18       12      1995          3  female    21.0   \n",
       "99000  1195943   15       10      1998          5  female   111.0   \n",
       "99001  1468023   23       11      1990          4  female   416.0   \n",
       "99002  1397896   39       15      1974          5  female   397.0   \n",
       "\n",
       "       friend_count  friendships_initiated  likes  likes_received  \\\n",
       "98998          2118                    341   3996           18089   \n",
       "98999          1968                   1720   4401           13412   \n",
       "99000          2002                   1524  11959           12554   \n",
       "99001          2560                    185   4506            6516   \n",
       "99002          2049                    768   9410           12443   \n",
       "\n",
       "       mobile_likes  mobile_likes_received  www_likes  www_likes_received  \n",
       "98998          3505                  11887        491                6202  \n",
       "98999          4399                  10592          2                2820  \n",
       "99000         11959                  11462          0                1092  \n",
       "99001          4506                   5760          0                 756  \n",
       "99002          9410                   9530          0                2913  "
      ]
     },
     "execution_count": 3,
     "metadata": {},
     "output_type": "execute_result"
    }
   ],
   "source": [
    "df.tail()"
   ]
  },
  {
   "cell_type": "markdown",
   "id": "4902b911",
   "metadata": {},
   "source": [
    "### 資料觀察"
   ]
  },
  {
   "cell_type": "code",
   "execution_count": 4,
   "id": "92e6945e",
   "metadata": {},
   "outputs": [
    {
     "name": "stdout",
     "output_type": "stream",
     "text": [
      "<class 'pandas.core.frame.DataFrame'>\n",
      "RangeIndex: 99003 entries, 0 to 99002\n",
      "Data columns (total 15 columns):\n",
      " #   Column                 Non-Null Count  Dtype  \n",
      "---  ------                 --------------  -----  \n",
      " 0   userid                 99003 non-null  int64  \n",
      " 1   age                    99003 non-null  int64  \n",
      " 2   dob_day                99003 non-null  int64  \n",
      " 3   dob_year               99003 non-null  int64  \n",
      " 4   dob_month              99003 non-null  int64  \n",
      " 5   gender                 98828 non-null  object \n",
      " 6   tenure                 99001 non-null  float64\n",
      " 7   friend_count           99003 non-null  int64  \n",
      " 8   friendships_initiated  99003 non-null  int64  \n",
      " 9   likes                  99003 non-null  int64  \n",
      " 10  likes_received         99003 non-null  int64  \n",
      " 11  mobile_likes           99003 non-null  int64  \n",
      " 12  mobile_likes_received  99003 non-null  int64  \n",
      " 13  www_likes              99003 non-null  int64  \n",
      " 14  www_likes_received     99003 non-null  int64  \n",
      "dtypes: float64(1), int64(13), object(1)\n",
      "memory usage: 11.3+ MB\n"
     ]
    }
   ],
   "source": [
    "df.info()"
   ]
  },
  {
   "cell_type": "markdown",
   "id": "a707650b",
   "metadata": {},
   "source": [
    "從info，可看到此資料集中含有15欄，99003筆會員資料，`其中「gender」、「tenure」欄含有空值`，各欄位資訊如下：  \n",
    "- userid 用戶id  \n",
    "- age 用戶年齡  \n",
    "- dob_day/year/month 用戶出生年月日  \n",
    "- gender 用戶性別  \n",
    "- tenure 帳號存在天數  \n",
    "- friend_count 好友數  \n",
    "- friendships_initiated 好友互動關係  \n",
    "- likes 按讚總數  \n",
    "- likes_received 獲讚總數  \n",
    "- mobile_likes  按讚數(行動裝置)  \n",
    "- mobile_likes_received 獲讚數(行動裝置)  \n",
    "- www_likes 按讚數(網頁)  \n",
    "- www_likes_received 獲讚數(網頁)"
   ]
  },
  {
   "cell_type": "markdown",
   "id": "d404138c",
   "metadata": {},
   "source": [
    "### 檢查資料是否有異常"
   ]
  },
  {
   "cell_type": "code",
   "execution_count": 5,
   "id": "4d0d6eda",
   "metadata": {},
   "outputs": [
    {
     "data": {
      "text/plain": [
       "userid                   99003\n",
       "age                        101\n",
       "dob_day                     31\n",
       "dob_year                   101\n",
       "dob_month                   12\n",
       "gender                       2\n",
       "tenure                    2426\n",
       "friend_count              2562\n",
       "friendships_initiated     1519\n",
       "likes                     2924\n",
       "likes_received            2681\n",
       "mobile_likes              2396\n",
       "mobile_likes_received     2004\n",
       "www_likes                 1726\n",
       "www_likes_received        1636\n",
       "dtype: int64"
      ]
     },
     "execution_count": 5,
     "metadata": {},
     "output_type": "execute_result"
    }
   ],
   "source": [
    "df.nunique() # age有異常"
   ]
  },
  {
   "cell_type": "code",
   "execution_count": 6,
   "id": "64d7230e",
   "metadata": {},
   "outputs": [
    {
     "name": "stdout",
     "output_type": "stream",
     "text": [
      "likes_chk:6\n",
      "likes_received_chk:4\n"
     ]
    }
   ],
   "source": [
    "likes_chk = df['likes'].sum() - df['mobile_likes'].sum() - df['www_likes'].sum()\n",
    "likes_received_chk = df['likes_received'].sum() - df['mobile_likes_received'].sum() - df['www_likes_received'].sum()\n",
    "\n",
    "print(f'likes_chk:{likes_chk}')\n",
    "print(f'likes_received_chk:{likes_received_chk}')\n",
    "\n",
    "# 總按讚數及總獲讚數有異常(行動裝置按讚數＋網頁按讚數!=總按讚數; 行動裝置獲讚數＋網頁獲讚數!=總獲讚數)\n"
   ]
  },
  {
   "cell_type": "markdown",
   "id": "ded22a07",
   "metadata": {},
   "source": [
    "從nunique，可確定每個用戶id都是唯一值，而其中`較有疑問的欄位為「age」，理論上用戶年齡不太會有101種那麼多，因101種代表0-100歲都有用戶`，用戶年齡若介於15-80歲之間，頂多也僅有60-70種，故先將此欄位標記異常。 \n",
    "\n",
    "接著，我們知道「likes」欄位是由「mobile_likes」＆「www_likes」兩欄位相加而成；而「likes_received」欄位則是由「mobile_likes_received」＆「www_likes_received」兩欄位相加而成，檢查此兩欄位，發現也有異常，故先標記。"
   ]
  },
  {
   "cell_type": "markdown",
   "id": "5d24919f",
   "metadata": {},
   "source": [
    "### 資料清洗"
   ]
  },
  {
   "cell_type": "code",
   "execution_count": 7,
   "id": "86387d93",
   "metadata": {
    "scrolled": true
   },
   "outputs": [
    {
     "name": "stdout",
     "output_type": "stream",
     "text": [
      "nan value in each columns:\n",
      "userid                     0\n",
      "age                        0\n",
      "dob_day                    0\n",
      "dob_year                   0\n",
      "dob_month                  0\n",
      "gender                   175\n",
      "tenure                     2\n",
      "friend_count               0\n",
      "friendships_initiated      0\n",
      "likes                      0\n",
      "likes_received             0\n",
      "mobile_likes               0\n",
      "mobile_likes_received      0\n",
      "www_likes                  0\n",
      "www_likes_received         0\n",
      "dtype: int64\n"
     ]
    }
   ],
   "source": [
    "# 空值處理\n",
    "print('nan value in each columns:')\n",
    "print(df.isnull().sum())\n"
   ]
  },
  {
   "cell_type": "code",
   "execution_count": 8,
   "id": "f820fe32",
   "metadata": {},
   "outputs": [],
   "source": [
    "df = df.dropna(subset = ['gender'])\n",
    "df['tenure'] = df['tenure'].fillna((df['tenure'].mean()))\n"
   ]
  },
  {
   "cell_type": "markdown",
   "id": "68c52fc9",
   "metadata": {},
   "source": [
    "從上可知「gender」及「tenure」兩欄位含有空值，依現今資料搜集能力，可以推斷不太可能是因為系統原因，導致沒有搜集到相關資料，大多時候可能是消費者不願意填寫個資，才導致此兩欄位含有空值。  \n",
    "針對「gender」欄空值的處理，因目前已約蒐集到90000筆會員資料，其中僅100多筆資料含有空值，因此，將空值直接移除是較符合效益的；而針對「tenure」欄的空值，因其為數值型資料，故依平均數為其補值。"
   ]
  },
  {
   "cell_type": "markdown",
   "id": "8df2992c",
   "metadata": {},
   "source": [
    "**⇣ 檢查資料時有發現「age」「likes」「likes_received」此三個欄有異常針對其做離群值處理**"
   ]
  },
  {
   "cell_type": "code",
   "execution_count": 9,
   "id": "3c4f0e50",
   "metadata": {},
   "outputs": [
    {
     "data": {
      "text/plain": [
       "<AxesSubplot: >"
      ]
     },
     "execution_count": 9,
     "metadata": {},
     "output_type": "execute_result"
    },
    {
     "data": {
      "image/png": "[encoded data removed]",
      "text/plain": [
       "<Figure size 640x480 with 1 Axes>"
      ]
     },
     "metadata": {},
     "output_type": "display_data"
    }
   ],
   "source": [
    "# \"age\"離群值處理\n",
    "df.boxplot('age')"
   ]
  },
  {
   "cell_type": "code",
   "execution_count": 10,
   "id": "74361337",
   "metadata": {},
   "outputs": [
    {
     "data": {
      "text/plain": [
       "count    98828.000000\n",
       "mean        37.213826\n",
       "std         22.525543\n",
       "min         13.000000\n",
       "25%         20.000000\n",
       "50%         28.000000\n",
       "75%         50.000000\n",
       "max        113.000000\n",
       "Name: age, dtype: float64"
      ]
     },
     "execution_count": 10,
     "metadata": {},
     "output_type": "execute_result"
    }
   ],
   "source": [
    "df['age'].describe()"
   ]
  },
  {
   "cell_type": "code",
   "execution_count": 11,
   "id": "22b350d0",
   "metadata": {},
   "outputs": [
    {
     "name": "stdout",
     "output_type": "stream",
     "text": [
      "IQR=30.0\n",
      "Lower_fence=-25.0\n",
      "Upper_fence=95.0\n"
     ]
    },
    {
     "data": {
      "text/plain": [
       "count    94569.000000\n",
       "mean        34.160793\n",
       "std         17.700163\n",
       "min         13.000000\n",
       "25%         20.000000\n",
       "50%         27.000000\n",
       "75%         46.000000\n",
       "max         95.000000\n",
       "Name: age, dtype: float64"
      ]
     },
     "execution_count": 11,
     "metadata": {},
     "output_type": "execute_result"
    }
   ],
   "source": [
    "iqr = df['age'].quantile(0.75) - df['age'].quantile(0.25)\n",
    "Lower_fence = df['age'].quantile(0.25) - 1.5 * iqr\n",
    "Upper_fence = df['age'].quantile(0.75) + 1.5 * iqr\n",
    "print(f'IQR={iqr}')\n",
    "print(f'Lower_fence={Lower_fence}')\n",
    "print(f'Upper_fence={Upper_fence}')\n",
    "\n",
    "df = df.loc[(df['age']>= -25) & (df['age']<= 95)]\n",
    "df['age'].describe()\n"
   ]
  },
  {
   "cell_type": "markdown",
   "id": "8b33f2c0",
   "metadata": {},
   "source": [
    "在處理「age」欄離群值前，可觀察到最小值為13歲，看起來是合理的；而最大值則到113歲是不太合理的，因此，針對此欄位做離群值處理，處理完後，約剔除4000筆資料"
   ]
  },
  {
   "cell_type": "code",
   "execution_count": 12,
   "id": "e722d95b",
   "metadata": {},
   "outputs": [
    {
     "name": "stdout",
     "output_type": "stream",
     "text": [
      "count    94561.0\n",
      "mean         0.0\n",
      "std          0.0\n",
      "min          0.0\n",
      "25%          0.0\n",
      "50%          0.0\n",
      "75%          0.0\n",
      "max          0.0\n",
      "Name: likes_chk, dtype: float64\n",
      "==========\n",
      "count    94561.0\n",
      "mean         0.0\n",
      "std          0.0\n",
      "min          0.0\n",
      "25%          0.0\n",
      "50%          0.0\n",
      "75%          0.0\n",
      "max          0.0\n",
      "Name: likes_received_chk, dtype: float64\n"
     ]
    }
   ],
   "source": [
    "# \"likes\" \"likes_received\" 處理\n",
    "df['likes_chk'] = df['likes'] - df['mobile_likes'] - df['www_likes']\n",
    "df['likes_received_chk'] = df['likes_received'] - df['mobile_likes_received'] - df['www_likes_received']\n",
    "\n",
    "## 保留正確的資料\n",
    "df = df.loc[(df['likes_chk']==0) & (df['likes_received_chk']==0)]\n",
    "\n",
    "print(df['likes_chk'].describe())\n",
    "print('==========')\n",
    "print(df['likes_received_chk'].describe())\n"
   ]
  },
  {
   "cell_type": "markdown",
   "id": "bbbc6af4",
   "metadata": {},
   "source": [
    "接著處理「likes」「likes_received」兩欄：  \n",
    "將按讚總數非行動裝置按讚數加網頁按讚數者刪除  \n",
    "將獲讚總數非行動裝置獲讚數加網頁獲讚數者刪除  \n",
    "最後約刪除8筆資料"
   ]
  },
  {
   "cell_type": "markdown",
   "id": "921da571",
   "metadata": {},
   "source": [
    "### 鎖定分析方向\n",
    ">未來，希望能針對不同年齡或性別，對用戶做精準行銷及進行廣告投放，因此，鎖定帳戶存在天數長及互動性高的帳號，因其有較高機率會點擊廣告"
   ]
  },
  {
   "cell_type": "code",
   "execution_count": 13,
   "id": "e245728d",
   "metadata": {},
   "outputs": [
    {
     "name": "stdout",
     "output_type": "stream",
     "text": [
      "<class 'pandas.core.frame.DataFrame'>\n",
      "Int64Index: 94561 entries, 0 to 99002\n",
      "Data columns (total 17 columns):\n",
      " #   Column                 Non-Null Count  Dtype  \n",
      "---  ------                 --------------  -----  \n",
      " 0   userid                 94561 non-null  int64  \n",
      " 1   age                    94561 non-null  int64  \n",
      " 2   dob_day                94561 non-null  int64  \n",
      " 3   dob_year               94561 non-null  int64  \n",
      " 4   dob_month              94561 non-null  int64  \n",
      " 5   gender                 94561 non-null  int8   \n",
      " 6   tenure                 94561 non-null  float64\n",
      " 7   friend_count           94561 non-null  int64  \n",
      " 8   friendships_initiated  94561 non-null  int64  \n",
      " 9   likes                  94561 non-null  int64  \n",
      " 10  likes_received         94561 non-null  int64  \n",
      " 11  mobile_likes           94561 non-null  int64  \n",
      " 12  mobile_likes_received  94561 non-null  int64  \n",
      " 13  www_likes              94561 non-null  int64  \n",
      " 14  www_likes_received     94561 non-null  int64  \n",
      " 15  likes_chk              94561 non-null  int64  \n",
      " 16  likes_received_chk     94561 non-null  int64  \n",
      "dtypes: float64(1), int64(15), int8(1)\n",
      "memory usage: 12.4 MB\n"
     ]
    }
   ],
   "source": [
    "# \"gender\"欄位做編碼\n",
    "df['gender'] = pd.Categorical(df['gender']).codes\n",
    "df.info()"
   ]
  },
  {
   "cell_type": "code",
   "execution_count": 14,
   "id": "996f6210",
   "metadata": {},
   "outputs": [],
   "source": [
    "# 針對「年齡、性別、互動、帳號存在天數」四個面向做資料視覺化\n",
    "data = df[['age', 'gender', 'tenure', 'likes', 'likes_received']]\n"
   ]
  },
  {
   "cell_type": "code",
   "execution_count": 15,
   "id": "32fd8b32",
   "metadata": {},
   "outputs": [
    {
     "data": {
      "image/png": "[encoded data removed]",
      "text/plain": [
       "<Figure size 640x480 with 2 Axes>"
      ]
     },
     "metadata": {},
     "output_type": "display_data"
    }
   ],
   "source": [
    "# 相關性 : 年齡、性別、互動、帳號存在天數\n",
    "cor = data.corr()  ##相關係數\n",
    "ax = plt.axes()    ##命名一個 ax畫布\n",
    "sns.heatmap(cor, ax = ax, annot = True)\n",
    "ax.set_title('feature selection')\n",
    "plt.show()\n"
   ]
  },
  {
   "cell_type": "markdown",
   "id": "ddc4c23d",
   "metadata": {},
   "source": [
    "根據上圖，可知「年齡、性別、互動、帳號存在天數」四個面向彼此間的關係，  \n",
    "可以看到年齡跟帳戶存在天數是有高相關性；按讚總數和獲讚總數也呈現出一些相關性"
   ]
  },
  {
   "cell_type": "markdown",
   "id": "90b86c01",
   "metadata": {},
   "source": [
    "**⇣ 針對年齡資料，畫長條圖，觀察各年齡分佈的情況**"
   ]
  },
  {
   "cell_type": "code",
   "execution_count": 16,
   "id": "fd4473a3",
   "metadata": {},
   "outputs": [
    {
     "data": {
      "image/png": "[encoded data removed]",
      "text/plain": [
       "<Figure size 640x480 with 1 Axes>"
      ]
     },
     "metadata": {},
     "output_type": "display_data"
    }
   ],
   "source": [
    "# 年齡長條圖\n",
    "data[\"age\"].plot(kind=\"hist\",title='fb-member age')\n",
    "plt.show()\n"
   ]
  },
  {
   "cell_type": "markdown",
   "id": "0e9aac26",
   "metadata": {},
   "source": [
    "從年齡長條圖可看出低於30歲的使用者約占總會員數一半以上，可知FACEBOOK用戶年齡層較低，因此，後續行銷在進行廣告投放時，應避免銀老保健等產品，因年輕人可能較不會買單"
   ]
  },
  {
   "cell_type": "markdown",
   "id": "185f076e",
   "metadata": {},
   "source": [
    "⇣ 針對性別資料，畫圓餅圖，觀察男女佔比"
   ]
  },
  {
   "cell_type": "code",
   "execution_count": 17,
   "id": "af8c380c",
   "metadata": {},
   "outputs": [
    {
     "name": "stdout",
     "output_type": "stream",
     "text": [
      "   gender  userid\n",
      "0       0   38551\n",
      "1       1   56010\n"
     ]
    }
   ],
   "source": [
    "df1 = df.groupby(['gender'])['userid'].count().reset_index()\n",
    "print(df1)\n",
    "# gender_female == 0;gender_male == 1"
   ]
  },
  {
   "cell_type": "code",
   "execution_count": 18,
   "id": "57971903",
   "metadata": {},
   "outputs": [
    {
     "data": {
      "image/png": "[encoded data removed]",
      "text/plain": [
       "<Figure size 400x400 with 1 Axes>"
      ]
     },
     "metadata": {},
     "output_type": "display_data"
    }
   ],
   "source": [
    "# 性別圓餅圖\n",
    "df1 = df.groupby(['gender'])['userid'].count().reset_index()\n",
    "df1['per'] = df['userid'] / len(df) * 100\n",
    "\n",
    "labels = 'Male', 'Female'\n",
    "sizes = df1['per'] #數值\n",
    "fig1, ax1 = plt.subplots(figsize = (4,4)) #文字大小\n",
    "ax1.pie(sizes, labels = labels,\n",
    "       autopct = '%1.1f%%', #四捨五入至小數第一位\n",
    "       shadow = True)\n",
    "\n",
    "plt.show()\n"
   ]
  },
  {
   "cell_type": "markdown",
   "id": "e8a9aae4",
   "metadata": {},
   "source": [
    "### 初步結論"
   ]
  },
  {
   "cell_type": "markdown",
   "id": "3980cb0d",
   "metadata": {},
   "source": [
    "透過FACEBOOK共9萬名用戶的資料，得出以下分析結論：\n",
    "1. 約50%用戶低於30歲，整體用戶男女比為 6:4\n",
    "2. 停留時間與用戶年齡呈高相關性，可再進一步分析兩者的關係\n",
    "\n",
    "結合上述兩點，後續研究可以「哪種用戶停留時間最久」為方向，判斷誰是忠誠用戶，並針對各族群客製化廣告，如:若20-25歲年輕的男性用戶停留時間長且互動性高，則可以選擇其可能較會喜歡的產品廣告進行投放，如：3C產品、球鞋類、旅遊類等\n"
   ]
  }
 ],
 "metadata": {
  "kernelspec": {
   "display_name": "Python 3 (ipykernel)",
   "language": "python",
   "name": "python3"
  },
  "language_info": {
   "codemirror_mode": {
    "name": "ipython",
    "version": 3
   },
   "file_extension": ".py",
   "mimetype": "text/x-python",
   "name": "python",
   "nbconvert_exporter": "python",
   "pygments_lexer": "ipython3",
   "version": "3.9.13"
  }
 },
 "nbformat": 4,
 "nbformat_minor": 5
}
